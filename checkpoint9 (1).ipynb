{
  "nbformat": 4,
  "nbformat_minor": 0,
  "metadata": {
    "colab": {
      "name": "checkpoint9",
      "provenance": []
    },
    "kernelspec": {
      "display_name": "Python 3",
      "name": "python3"
    },
    "language_info": {
      "name": "python"
    }
  },
  "cells": [
    {
      "cell_type": "code",
      "metadata": {
        "colab": {
          "base_uri": "https://localhost:8080/"
        },
        "id": "z_xdh1nXmurT",
        "outputId": "ad80d182-829f-4a88-8222-8afbbeac9754"
      },
      "source": [
        "def binary_search(sequence, point):\n",
        "  start = 0\n",
        "  end = len(sequence) - 1\n",
        "\n",
        "  while start <= end:\n",
        "    midpoint = start + (end - start) // 2\n",
        "    midpointValue = sequence[midpoint]\n",
        "    if midpointValue == point:\n",
        "      return True\n",
        "    elif point < midpointValue:\n",
        "      end = midpoint - 1\n",
        "    else:\n",
        "      start = midpoint + 1\n",
        "  \n",
        "  return False\n",
        "\n",
        "print(binary_search([1,2,3,5,8], 6))\n",
        "print(binary_search([1,2,3,5,8], 5))"
      ],
      "execution_count": 13,
      "outputs": [
        {
          "output_type": "stream",
          "text": [
            "False\n",
            "True\n"
          ],
          "name": "stdout"
        }
      ]
    },
    {
      "cell_type": "code",
      "metadata": {
        "colab": {
          "base_uri": "https://localhost:8080/"
        },
        "id": "3bpVbgBinSbk",
        "outputId": "3614c6c5-39bd-4e2c-eb48-ffe3bec29be3"
      },
      "source": [
        "def power(a, b):\n",
        "  return a**b\n",
        "\n",
        "print(power(3, 4))"
      ],
      "execution_count": 14,
      "outputs": [
        {
          "output_type": "stream",
          "text": [
            "81\n"
          ],
          "name": "stdout"
        }
      ]
    },
    {
      "cell_type": "code",
      "metadata": {
        "colab": {
          "base_uri": "https://localhost:8080/"
        },
        "id": "Upjo8ofFnbCe",
        "outputId": "69c17554-1cef-401e-f174-d8417b190a25"
      },
      "source": [
        "def bubbleSort(sequence):\n",
        "  for i in range(len(sequence)-1, 0, -1):\n",
        "    for j in range(i):\n",
        "      if sequence[j] > sequence[j+1]:\n",
        "        sequence[j], sequence[j+1] = sequence[j+1], sequence[j]\n",
        "  return sequence\n",
        "\n",
        "print(bubbleSort([29,13,22,37,52,49,46,71,56]))"
      ],
      "execution_count": 15,
      "outputs": [
        {
          "output_type": "stream",
          "text": [
            "[13, 22, 29, 37, 46, 49, 52, 56, 71]\n"
          ],
          "name": "stdout"
        }
      ]
    },
    {
      "cell_type": "code",
      "metadata": {
        "colab": {
          "base_uri": "https://localhost:8080/"
        },
        "id": "BnmfOqyknjMJ",
        "outputId": "2f1d1aca-eac7-44c0-832f-0884e4b61779"
      },
      "source": [
        "def mergeSort(sequence):\n",
        "  if(len(sequence) > 1):\n",
        "    mid = len(sequence) // 2\n",
        "    right = sequence[mid:]\n",
        "    left = sequence[:mid]\n",
        "\n",
        "    mergeSort(right)\n",
        "    mergeSort(left)\n",
        "\n",
        "    i = 0\n",
        "    j = 0\n",
        "    k = 0\n",
        "\n",
        "    while i < len(left) and j < len(right):\n",
        "      if left[i] < right[j]:\n",
        "        sequence[k] = left[i]\n",
        "        i += 1\n",
        "      else:\n",
        "        sequence[k] = right[j]\n",
        "        j += 1\n",
        "      k += 1\n",
        "      \n",
        "    while i < len(left):\n",
        "      sequence[k] = left[i]\n",
        "      i += 1\n",
        "    while j < len(right):\n",
        "      sequence[k] = right[j]\n",
        "      j+=1\n",
        "      k+=1\n",
        "  return sequence\n",
        "\n",
        "print(mergeSort([29,13,22,37,52,49,46,71,56]))"
      ],
      "execution_count": 16,
      "outputs": [
        {
          "output_type": "stream",
          "text": [
            "[13, 22, 29, 37, 46, 49, 52, 56, 71]\n"
          ],
          "name": "stdout"
        }
      ]
    },
    {
      "cell_type": "code",
      "metadata": {
        "colab": {
          "base_uri": "https://localhost:8080/"
        },
        "id": "JPJ4e7fFnsGp",
        "outputId": "5621f0e5-6231-43dc-d9ab-d3e3402f0529"
      },
      "source": [
        "def part(array, start, end):\n",
        "  pivot = array[start]\n",
        "  low = start + 1\n",
        "  high = end\n",
        "  while True:\n",
        "    while low <= high and array[high] >= pivot:\n",
        "      high -= 1 \n",
        "    while low <= high and array[low] <= pivot:\n",
        "      low += 1\n",
        "    if low <= high:\n",
        "      array[low], array[high] = array[high], array[low]\n",
        "    else:\n",
        "      break\n",
        "\n",
        "  array[start], array[high] = array[high], array[start]\n",
        "\n",
        "  return high\n",
        "\n",
        "def quickSort(array, start, end):\n",
        "  if start >= end:\n",
        "    return\n",
        "  p = part(array, start, end)\n",
        "  quickSort(array, start, p-1)\n",
        "  quickSort(array, p+1, end)\n",
        "\n",
        "array = [29,13,22,37,52,49,46,71,56]\n",
        "quickSort(array, 0, len(array)-1)\n",
        "print(array)"
      ],
      "execution_count": 17,
      "outputs": [
        {
          "output_type": "stream",
          "text": [
            "[13, 22, 29, 37, 46, 49, 52, 56, 71]\n"
          ],
          "name": "stdout"
        }
      ]
    }
  ]
}